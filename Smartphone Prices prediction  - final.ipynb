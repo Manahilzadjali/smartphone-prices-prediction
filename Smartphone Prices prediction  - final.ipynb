{
 "cells": [
  {
   "cell_type": "markdown",
   "id": "18932c76",
   "metadata": {},
   "source": [
    "# Problem Identification "
   ]
  },
  {
   "cell_type": "markdown",
   "id": "90591744",
   "metadata": {},
   "source": [
    "My objective is to analyze the smartphone dataset to identify key factors influencing smartphone pricing. This data mining task will help uncover patterns and relationships between various specifications (such as RAM, storage, camera quality, and battery capacity) and their impact on the market price of the smartphones. This analysis is crucial for manufacturers and retailers to strategize product pricing and features, aligning them with market trends and consumer preferences."
   ]
  },
  {
   "cell_type": "markdown",
   "id": "07ed70b5",
   "metadata": {},
   "source": [
    "\n",
    "# Data Loading and Initial Processing"
   ]
  },
  {
   "cell_type": "code",
   "execution_count": 25,
   "id": "445f6667",
   "metadata": {},
   "outputs": [],
   "source": [
    "import pandas as pd\n",
    "import matplotlib.pyplot as plt\n",
    "import seaborn as sns\n",
    "import numpy as np\n",
    "import re\n",
    "from scipy.stats import pearsonr"
   ]
  },
  {
   "cell_type": "code",
   "execution_count": 26,
   "id": "a458e02f",
   "metadata": {},
   "outputs": [],
   "source": [
    "# Function to extract the first number from a string\n",
    "def extract_first_number(string):\n",
    "    match = re.search(r'\\d+', string)\n",
    "    return float(match.group()) if match else 0\n"
   ]
  },
  {
   "cell_type": "code",
   "execution_count": 27,
   "id": "784f7882",
   "metadata": {},
   "outputs": [
    {
     "data": {
      "text/html": [
       "<div>\n",
       "<style scoped>\n",
       "    .dataframe tbody tr th:only-of-type {\n",
       "        vertical-align: middle;\n",
       "    }\n",
       "\n",
       "    .dataframe tbody tr th {\n",
       "        vertical-align: top;\n",
       "    }\n",
       "\n",
       "    .dataframe thead th {\n",
       "        text-align: right;\n",
       "    }\n",
       "</style>\n",
       "<table border=\"1\" class=\"dataframe\">\n",
       "  <thead>\n",
       "    <tr style=\"text-align: right;\">\n",
       "      <th></th>\n",
       "      <th>Brand</th>\n",
       "      <th>Model</th>\n",
       "      <th>Storage</th>\n",
       "      <th>RAM</th>\n",
       "      <th>Screen Size (inches)</th>\n",
       "      <th>Camera (MP)</th>\n",
       "      <th>Battery Capacity (mAh)</th>\n",
       "      <th>Price ($)</th>\n",
       "    </tr>\n",
       "  </thead>\n",
       "  <tbody>\n",
       "    <tr>\n",
       "      <th>0</th>\n",
       "      <td>Apple</td>\n",
       "      <td>iPhone 13 Pro</td>\n",
       "      <td>128 GB</td>\n",
       "      <td>6 GB</td>\n",
       "      <td>6.1</td>\n",
       "      <td>12 + 12 + 12</td>\n",
       "      <td>3095</td>\n",
       "      <td>999</td>\n",
       "    </tr>\n",
       "    <tr>\n",
       "      <th>1</th>\n",
       "      <td>Samsung</td>\n",
       "      <td>Galaxy S21 Ultra</td>\n",
       "      <td>256 GB</td>\n",
       "      <td>12 GB</td>\n",
       "      <td>6.8</td>\n",
       "      <td>108 + 10 + 10 + 12</td>\n",
       "      <td>5000</td>\n",
       "      <td>1199</td>\n",
       "    </tr>\n",
       "    <tr>\n",
       "      <th>2</th>\n",
       "      <td>OnePlus</td>\n",
       "      <td>9 Pro</td>\n",
       "      <td>128 GB</td>\n",
       "      <td>8 GB</td>\n",
       "      <td>6.7</td>\n",
       "      <td>48 + 50 + 8 + 2</td>\n",
       "      <td>4500</td>\n",
       "      <td>899</td>\n",
       "    </tr>\n",
       "    <tr>\n",
       "      <th>3</th>\n",
       "      <td>Xiaomi</td>\n",
       "      <td>Redmi Note 10 Pro</td>\n",
       "      <td>128 GB</td>\n",
       "      <td>6 GB</td>\n",
       "      <td>6.67</td>\n",
       "      <td>64 + 8 + 5 + 2</td>\n",
       "      <td>5020</td>\n",
       "      <td>279</td>\n",
       "    </tr>\n",
       "    <tr>\n",
       "      <th>4</th>\n",
       "      <td>Google</td>\n",
       "      <td>Pixel 6</td>\n",
       "      <td>128 GB</td>\n",
       "      <td>8 GB</td>\n",
       "      <td>6.4</td>\n",
       "      <td>50 + 12.2</td>\n",
       "      <td>4614</td>\n",
       "      <td>799</td>\n",
       "    </tr>\n",
       "  </tbody>\n",
       "</table>\n",
       "</div>"
      ],
      "text/plain": [
       "     Brand              Model Storage    RAM  Screen Size (inches)  \\\n",
       "0    Apple      iPhone 13 Pro   128 GB   6 GB                  6.1   \n",
       "1  Samsung   Galaxy S21 Ultra   256 GB  12 GB                  6.8   \n",
       "2  OnePlus              9 Pro   128 GB   8 GB                  6.7   \n",
       "3   Xiaomi  Redmi Note 10 Pro   128 GB   6 GB                 6.67   \n",
       "4   Google            Pixel 6   128 GB   8 GB                  6.4   \n",
       "\n",
       "          Camera (MP)  Battery Capacity (mAh) Price ($)  \n",
       "0        12 + 12 + 12                    3095       999  \n",
       "1  108 + 10 + 10 + 12                    5000      1199  \n",
       "2     48 + 50 + 8 + 2                    4500       899  \n",
       "3      64 + 8 + 5 + 2                    5020       279  \n",
       "4           50 + 12.2                    4614       799  "
      ]
     },
     "execution_count": 27,
     "metadata": {},
     "output_type": "execute_result"
    }
   ],
   "source": [
    "# Load the dataset\n",
    "df = pd.read_csv('smartphone_data_converted.csv')\n",
    "df.head()"
   ]
  },
  {
   "cell_type": "code",
   "execution_count": 28,
   "id": "c5ea7c92",
   "metadata": {},
   "outputs": [
    {
     "data": {
      "text/html": [
       "<div>\n",
       "<style scoped>\n",
       "    .dataframe tbody tr th:only-of-type {\n",
       "        vertical-align: middle;\n",
       "    }\n",
       "\n",
       "    .dataframe tbody tr th {\n",
       "        vertical-align: top;\n",
       "    }\n",
       "\n",
       "    .dataframe thead th {\n",
       "        text-align: right;\n",
       "    }\n",
       "</style>\n",
       "<table border=\"1\" class=\"dataframe\">\n",
       "  <thead>\n",
       "    <tr style=\"text-align: right;\">\n",
       "      <th></th>\n",
       "      <th>Brand</th>\n",
       "      <th>Model</th>\n",
       "      <th>Storage</th>\n",
       "      <th>RAM</th>\n",
       "      <th>Screen Size (inches)</th>\n",
       "      <th>Camera (MP)</th>\n",
       "      <th>Battery Capacity (mAh)</th>\n",
       "      <th>Price ($)</th>\n",
       "    </tr>\n",
       "  </thead>\n",
       "  <tbody>\n",
       "    <tr>\n",
       "      <th>0</th>\n",
       "      <td>Apple</td>\n",
       "      <td>iPhone 13 Pro</td>\n",
       "      <td>128.0</td>\n",
       "      <td>6.0</td>\n",
       "      <td>6.1</td>\n",
       "      <td>12.0</td>\n",
       "      <td>3095</td>\n",
       "      <td>999.0</td>\n",
       "    </tr>\n",
       "    <tr>\n",
       "      <th>1</th>\n",
       "      <td>Samsung</td>\n",
       "      <td>Galaxy S21 Ultra</td>\n",
       "      <td>256.0</td>\n",
       "      <td>12.0</td>\n",
       "      <td>6.8</td>\n",
       "      <td>108.0</td>\n",
       "      <td>5000</td>\n",
       "      <td>1199.0</td>\n",
       "    </tr>\n",
       "    <tr>\n",
       "      <th>2</th>\n",
       "      <td>OnePlus</td>\n",
       "      <td>9 Pro</td>\n",
       "      <td>128.0</td>\n",
       "      <td>8.0</td>\n",
       "      <td>6.7</td>\n",
       "      <td>48.0</td>\n",
       "      <td>4500</td>\n",
       "      <td>899.0</td>\n",
       "    </tr>\n",
       "    <tr>\n",
       "      <th>3</th>\n",
       "      <td>Xiaomi</td>\n",
       "      <td>Redmi Note 10 Pro</td>\n",
       "      <td>128.0</td>\n",
       "      <td>6.0</td>\n",
       "      <td>6.67</td>\n",
       "      <td>64.0</td>\n",
       "      <td>5020</td>\n",
       "      <td>279.0</td>\n",
       "    </tr>\n",
       "    <tr>\n",
       "      <th>4</th>\n",
       "      <td>Google</td>\n",
       "      <td>Pixel 6</td>\n",
       "      <td>128.0</td>\n",
       "      <td>8.0</td>\n",
       "      <td>6.4</td>\n",
       "      <td>50.0</td>\n",
       "      <td>4614</td>\n",
       "      <td>799.0</td>\n",
       "    </tr>\n",
       "    <tr>\n",
       "      <th>...</th>\n",
       "      <td>...</td>\n",
       "      <td>...</td>\n",
       "      <td>...</td>\n",
       "      <td>...</td>\n",
       "      <td>...</td>\n",
       "      <td>...</td>\n",
       "      <td>...</td>\n",
       "      <td>...</td>\n",
       "    </tr>\n",
       "    <tr>\n",
       "      <th>402</th>\n",
       "      <td>Samsung</td>\n",
       "      <td>Galaxy Note20 5G</td>\n",
       "      <td>128.0</td>\n",
       "      <td>8.0</td>\n",
       "      <td>6.7</td>\n",
       "      <td>12.0</td>\n",
       "      <td>4300</td>\n",
       "      <td>1049.0</td>\n",
       "    </tr>\n",
       "    <tr>\n",
       "      <th>403</th>\n",
       "      <td>Xiaomi</td>\n",
       "      <td>Mi 10 Lite 5G</td>\n",
       "      <td>128.0</td>\n",
       "      <td>6.0</td>\n",
       "      <td>6.57</td>\n",
       "      <td>48.0</td>\n",
       "      <td>4160</td>\n",
       "      <td>349.0</td>\n",
       "    </tr>\n",
       "    <tr>\n",
       "      <th>404</th>\n",
       "      <td>Apple</td>\n",
       "      <td>iPhone 12 Pro Max</td>\n",
       "      <td>128.0</td>\n",
       "      <td>6.0</td>\n",
       "      <td>6.7</td>\n",
       "      <td>12.0</td>\n",
       "      <td>3687</td>\n",
       "      <td>1099.0</td>\n",
       "    </tr>\n",
       "    <tr>\n",
       "      <th>405</th>\n",
       "      <td>Oppo</td>\n",
       "      <td>Reno3</td>\n",
       "      <td>128.0</td>\n",
       "      <td>8.0</td>\n",
       "      <td>6.4</td>\n",
       "      <td>48.0</td>\n",
       "      <td>4025</td>\n",
       "      <td>429.0</td>\n",
       "    </tr>\n",
       "    <tr>\n",
       "      <th>406</th>\n",
       "      <td>Samsung</td>\n",
       "      <td>Galaxy S10 Lite</td>\n",
       "      <td>128.0</td>\n",
       "      <td>6.0</td>\n",
       "      <td>6.7</td>\n",
       "      <td>48.0</td>\n",
       "      <td>4500</td>\n",
       "      <td>649.0</td>\n",
       "    </tr>\n",
       "  </tbody>\n",
       "</table>\n",
       "<p>407 rows × 8 columns</p>\n",
       "</div>"
      ],
      "text/plain": [
       "       Brand              Model  Storage   RAM  Screen Size (inches)  \\\n",
       "0      Apple      iPhone 13 Pro     128.0   6.0                  6.1   \n",
       "1    Samsung   Galaxy S21 Ultra     256.0  12.0                  6.8   \n",
       "2    OnePlus              9 Pro     128.0   8.0                  6.7   \n",
       "3     Xiaomi  Redmi Note 10 Pro     128.0   6.0                 6.67   \n",
       "4     Google            Pixel 6     128.0   8.0                  6.4   \n",
       "..       ...                ...       ...   ...                  ...   \n",
       "402  Samsung   Galaxy Note20 5G     128.0   8.0                  6.7   \n",
       "403   Xiaomi      Mi 10 Lite 5G     128.0   6.0                 6.57   \n",
       "404    Apple  iPhone 12 Pro Max     128.0   6.0                  6.7   \n",
       "405     Oppo              Reno3     128.0   8.0                  6.4   \n",
       "406  Samsung    Galaxy S10 Lite     128.0   6.0                  6.7   \n",
       "\n",
       "     Camera (MP)  Battery Capacity (mAh)  Price ($)  \n",
       "0           12.0                    3095      999.0  \n",
       "1          108.0                    5000     1199.0  \n",
       "2           48.0                    4500      899.0  \n",
       "3           64.0                    5020      279.0  \n",
       "4           50.0                    4614      799.0  \n",
       "..           ...                     ...        ...  \n",
       "402         12.0                    4300     1049.0  \n",
       "403         48.0                    4160      349.0  \n",
       "404         12.0                    3687     1099.0  \n",
       "405         48.0                    4025      429.0  \n",
       "406         48.0                    4500      649.0  \n",
       "\n",
       "[407 rows x 8 columns]"
      ]
     },
     "execution_count": 28,
     "metadata": {},
     "output_type": "execute_result"
    }
   ],
   "source": [
    "\n",
    "# Convert 'Price ($)' to numeric, coercing errors to NaN\n",
    "df['Price ($)'] = df['Price ($)'].replace('[\\$\\,]', '', regex=True).astype(float)\n",
    "\n",
    "# Converting complex string entries in 'Storage ' and 'Camera (MP)' to numeric values\n",
    "df['Storage '] = df['Storage '].str.extract('(\\d+)').astype(float)\n",
    "df['Camera (MP)'] = df['Camera (MP)'].apply(extract_first_number)\n",
    "\n",
    "# Convert 'RAM ' to numeric if it's not already\n",
    "if df['RAM '].dtype == object:\n",
    "    df['RAM '] = df['RAM '].apply(extract_first_number)\n",
    "\n",
    "# Handling missing data for numeric columns\n",
    "numeric_cols = df.select_dtypes(include=[np.number]).columns\n",
    "df[numeric_cols] = df[numeric_cols].fillna(df[numeric_cols].median())\n",
    "\n",
    "df\n"
   ]
  },
  {
   "cell_type": "markdown",
   "id": "fc560268",
   "metadata": {},
   "source": [
    "# Descriptive Analysis and Visualization"
   ]
  },
  {
   "cell_type": "code",
   "execution_count": 29,
   "id": "156cae54",
   "metadata": {},
   "outputs": [
    {
     "data": {
      "text/html": [
       "<div>\n",
       "<style scoped>\n",
       "    .dataframe tbody tr th:only-of-type {\n",
       "        vertical-align: middle;\n",
       "    }\n",
       "\n",
       "    .dataframe tbody tr th {\n",
       "        vertical-align: top;\n",
       "    }\n",
       "\n",
       "    .dataframe thead th {\n",
       "        text-align: right;\n",
       "    }\n",
       "</style>\n",
       "<table border=\"1\" class=\"dataframe\">\n",
       "  <thead>\n",
       "    <tr style=\"text-align: right;\">\n",
       "      <th></th>\n",
       "      <th>Storage</th>\n",
       "      <th>RAM</th>\n",
       "      <th>Camera (MP)</th>\n",
       "      <th>Battery Capacity (mAh)</th>\n",
       "      <th>Price ($)</th>\n",
       "    </tr>\n",
       "  </thead>\n",
       "  <tbody>\n",
       "    <tr>\n",
       "      <th>count</th>\n",
       "      <td>407.000000</td>\n",
       "      <td>407.000000</td>\n",
       "      <td>407.000000</td>\n",
       "      <td>407.000000</td>\n",
       "      <td>407.000000</td>\n",
       "    </tr>\n",
       "    <tr>\n",
       "      <th>mean</th>\n",
       "      <td>123.046683</td>\n",
       "      <td>5.837838</td>\n",
       "      <td>43.316953</td>\n",
       "      <td>4676.476658</td>\n",
       "      <td>408.314496</td>\n",
       "    </tr>\n",
       "    <tr>\n",
       "      <th>std</th>\n",
       "      <td>64.963160</td>\n",
       "      <td>2.431980</td>\n",
       "      <td>24.672141</td>\n",
       "      <td>797.193713</td>\n",
       "      <td>299.684768</td>\n",
       "    </tr>\n",
       "    <tr>\n",
       "      <th>min</th>\n",
       "      <td>32.000000</td>\n",
       "      <td>2.000000</td>\n",
       "      <td>8.000000</td>\n",
       "      <td>1821.000000</td>\n",
       "      <td>99.000000</td>\n",
       "    </tr>\n",
       "    <tr>\n",
       "      <th>25%</th>\n",
       "      <td>64.000000</td>\n",
       "      <td>4.000000</td>\n",
       "      <td>13.000000</td>\n",
       "      <td>4300.000000</td>\n",
       "      <td>199.000000</td>\n",
       "    </tr>\n",
       "    <tr>\n",
       "      <th>50%</th>\n",
       "      <td>128.000000</td>\n",
       "      <td>6.000000</td>\n",
       "      <td>48.000000</td>\n",
       "      <td>5000.000000</td>\n",
       "      <td>299.000000</td>\n",
       "    </tr>\n",
       "    <tr>\n",
       "      <th>75%</th>\n",
       "      <td>128.000000</td>\n",
       "      <td>8.000000</td>\n",
       "      <td>64.000000</td>\n",
       "      <td>5000.000000</td>\n",
       "      <td>499.000000</td>\n",
       "    </tr>\n",
       "    <tr>\n",
       "      <th>max</th>\n",
       "      <td>512.000000</td>\n",
       "      <td>16.000000</td>\n",
       "      <td>108.000000</td>\n",
       "      <td>7000.000000</td>\n",
       "      <td>1999.000000</td>\n",
       "    </tr>\n",
       "  </tbody>\n",
       "</table>\n",
       "</div>"
      ],
      "text/plain": [
       "         Storage         RAM   Camera (MP)  Battery Capacity (mAh)  \\\n",
       "count  407.000000  407.000000   407.000000              407.000000   \n",
       "mean   123.046683    5.837838    43.316953             4676.476658   \n",
       "std     64.963160    2.431980    24.672141              797.193713   \n",
       "min     32.000000    2.000000     8.000000             1821.000000   \n",
       "25%     64.000000    4.000000    13.000000             4300.000000   \n",
       "50%    128.000000    6.000000    48.000000             5000.000000   \n",
       "75%    128.000000    8.000000    64.000000             5000.000000   \n",
       "max    512.000000   16.000000   108.000000             7000.000000   \n",
       "\n",
       "         Price ($)  \n",
       "count   407.000000  \n",
       "mean    408.314496  \n",
       "std     299.684768  \n",
       "min      99.000000  \n",
       "25%     199.000000  \n",
       "50%     299.000000  \n",
       "75%     499.000000  \n",
       "max    1999.000000  "
      ]
     },
     "execution_count": 29,
     "metadata": {},
     "output_type": "execute_result"
    }
   ],
   "source": [
    "# Descriptive Statistics\n",
    "descriptive_stats = df.describe()\n",
    "descriptive_stats"
   ]
  },
  {
   "cell_type": "code",
   "execution_count": 38,
   "id": "20d73a18",
   "metadata": {},
   "outputs": [
    {
     "name": "stdout",
     "output_type": "stream",
     "text": [
      "Pearson Correlation Coefficient between RAM and Price: 0.6371723146523032\n",
      "P-value: 9.673621477576213e-48\n"
     ]
    }
   ],
   "source": [
    "corr_coefficient, p_value = pearsonr(df['RAM '].dropna(), df['Price ($)'].dropna())\n",
    "print(f\"Pearson Correlation Coefficient between RAM and Price: {corr_coefficient}\")\n",
    "print(f\"P-value: {p_value}\")"
   ]
  },
  {
   "cell_type": "code",
   "execution_count": 30,
   "id": "2d350565",
   "metadata": {},
   "outputs": [
    {
     "data": {
      "text/plain": [
       "Text(0.5, 1.0, 'Heat Map of Correlation Matrix')"
      ]
     },
     "execution_count": 30,
     "metadata": {},
     "output_type": "execute_result"
    },
    {
     "data": {
      "image/png": "[encoded data removed]",
      "text/plain": [
       "<Figure size 1500x1000 with 2 Axes>"
      ]
     },
     "metadata": {},
     "output_type": "display_data"
    }
   ],
   "source": [
    "# Correlation Matrix for Heat Map\n",
    "correlation_matrix = df[numeric_cols].corr() \n",
    "\n",
    "# Creating the plots\n",
    "plt.figure(figsize=(15, 10))\n",
    "\n",
    "# Heat Map\n",
    "plt.subplot(2, 2, 1)\n",
    "sns.heatmap(correlation_matrix, annot=True, cmap='coolwarm')\n",
    "plt.title('Heat Map of Correlation Matrix')\n"
   ]
  },
  {
   "cell_type": "code",
   "execution_count": 31,
   "id": "b10eb887",
   "metadata": {},
   "outputs": [
    {
     "data": {
      "text/plain": [
       "Text(0.5, 1.0, 'Box Plot of Smartphone Prices')"
      ]
     },
     "execution_count": 31,
     "metadata": {},
     "output_type": "execute_result"
    },
    {
     "data": {
      "image/png": "[encoded data removed]",
      "text/plain": [
       "<Figure size 640x480 with 1 Axes>"
      ]
     },
     "metadata": {},
     "output_type": "display_data"
    }
   ],
   "source": [
    "# Box Plot for Price\n",
    "plt.subplot(2, 2, 2)\n",
    "sns.boxplot(x=df['Price ($)'])\n",
    "plt.title('Box Plot of Smartphone Prices')"
   ]
  },
  {
   "cell_type": "code",
   "execution_count": 32,
   "id": "47be5f9d",
   "metadata": {},
   "outputs": [
    {
     "data": {
      "image/png": "[encoded data removed]",
      "text/plain": [
       "<Figure size 640x480 with 1 Axes>"
      ]
     },
     "metadata": {},
     "output_type": "display_data"
    }
   ],
   "source": [
    "# Regression Plot for Price and RAM\n",
    "plt.subplot(2, 2, 3)\n",
    "sns.regplot(x='RAM ', y='Price ($)', data=df)\n",
    "plt.title('Regression Plot of Price vs RAM')\n",
    "\n",
    "plt.tight_layout()\n",
    "plt.show()"
   ]
  },
  {
   "cell_type": "code",
   "execution_count": 33,
   "id": "8054c9dd",
   "metadata": {},
   "outputs": [
    {
     "name": "stdout",
     "output_type": "stream",
     "text": [
      "         Storage         RAM   Camera (MP)  Battery Capacity (mAh)  \\\n",
      "count  407.000000  407.000000   407.000000              407.000000   \n",
      "mean   123.046683    5.837838    43.316953             4676.476658   \n",
      "std     64.963160    2.431980    24.672141              797.193713   \n",
      "min     32.000000    2.000000     8.000000             1821.000000   \n",
      "25%     64.000000    4.000000    13.000000             4300.000000   \n",
      "50%    128.000000    6.000000    48.000000             5000.000000   \n",
      "75%    128.000000    8.000000    64.000000             5000.000000   \n",
      "max    512.000000   16.000000   108.000000             7000.000000   \n",
      "\n",
      "         Price ($)  \n",
      "count   407.000000  \n",
      "mean    408.314496  \n",
      "std     299.684768  \n",
      "min      99.000000  \n",
      "25%     199.000000  \n",
      "50%     299.000000  \n",
      "75%     499.000000  \n",
      "max    1999.000000  \n"
     ]
    }
   ],
   "source": [
    "\n",
    "# Outputting Descriptive Statistics\n",
    "print(descriptive_stats)"
   ]
  },
  {
   "cell_type": "markdown",
   "id": "ab29a511",
   "metadata": {},
   "source": [
    "# Data Preprocessing for Machine Learning"
   ]
  },
  {
   "cell_type": "code",
   "execution_count": 35,
   "id": "f6005229",
   "metadata": {},
   "outputs": [
    {
     "name": "stdout",
     "output_type": "stream",
     "text": [
      "   0    1    2    3    4    5    6    7    8    9    ...  290  291  292  293  \\\n",
      "0  1.0  0.0  0.0  0.0  0.0  0.0  0.0  0.0  0.0  0.0  ...  0.0  0.0  0.0  0.0   \n",
      "1  0.0  0.0  0.0  0.0  0.0  0.0  0.0  0.0  0.0  0.0  ...  1.0  0.0  0.0  0.0   \n",
      "2  0.0  0.0  0.0  0.0  0.0  0.0  0.0  0.0  0.0  1.0  ...  0.0  0.0  0.0  0.0   \n",
      "3  0.0  0.0  0.0  0.0  0.0  0.0  0.0  0.0  0.0  0.0  ...  0.0  0.0  0.0  0.0   \n",
      "4  0.0  0.0  0.0  0.0  1.0  0.0  0.0  0.0  0.0  0.0  ...  0.0  0.0  0.0  0.0   \n",
      "\n",
      "   294  295       296       297   298       299  \n",
      "0  0.0  0.0  0.200000  0.285714  0.04  0.245993  \n",
      "1  0.0  0.0  0.466667  0.714286  1.00  0.613825  \n",
      "2  0.0  0.0  0.200000  0.428571  0.40  0.517281  \n",
      "3  0.0  0.0  0.200000  0.285714  0.56  0.617687  \n",
      "4  0.0  0.0  0.200000  0.428571  0.42  0.539293  \n",
      "\n",
      "[5 rows x 300 columns]\n"
     ]
    }
   ],
   "source": [
    "from sklearn.preprocessing import OneHotEncoder\n",
    "from sklearn.compose import ColumnTransformer\n",
    "from sklearn.preprocessing import MinMaxScaler\n",
    "\n",
    "\n",
    "# Identify categorical columns (excluding 'Price ($)')\n",
    "categorical_cols = df.select_dtypes(include=['object']).columns\n",
    "\n",
    "# Apply One-Hot Encoding to categorical columns\n",
    "ct = ColumnTransformer(transformers=[('encoder', OneHotEncoder(), categorical_cols)], remainder='passthrough')\n",
    "df_encoded = ct.fit_transform(df.drop(columns=['Price ($)']))\n",
    "\n",
    "# Convert the output to a dense format\n",
    "df_encoded_dense = df_encoded.toarray()\n",
    "\n",
    "# Define the target variable (Price)\n",
    "y = df['Price ($)']\n",
    "\n",
    "# Normalization of all features\n",
    "scaler = MinMaxScaler()\n",
    "df_normalized = pd.DataFrame(scaler.fit_transform(df_encoded_dense))\n",
    "\n",
    "# Output the transformed dataframe\n",
    "print(df_normalized.head())\n"
   ]
  },
  {
   "cell_type": "markdown",
   "id": "ee104bdb",
   "metadata": {},
   "source": [
    "# Model Training: Ridge and Random Forest Regression"
   ]
  },
  {
   "cell_type": "code",
   "execution_count": 36,
   "id": "5a84cd03",
   "metadata": {},
   "outputs": [
    {
     "data": {
      "text/html": [
       "<style>#sk-container-id-1 {color: black;}#sk-container-id-1 pre{padding: 0;}#sk-container-id-1 div.sk-toggleable {background-color: white;}#sk-container-id-1 label.sk-toggleable__label {cursor: pointer;display: block;width: 100%;margin-bottom: 0;padding: 0.3em;box-sizing: border-box;text-align: center;}#sk-container-id-1 label.sk-toggleable__label-arrow:before {content: \"▸\";float: left;margin-right: 0.25em;color: #696969;}#sk-container-id-1 label.sk-toggleable__label-arrow:hover:before {color: black;}#sk-container-id-1 div.sk-estimator:hover label.sk-toggleable__label-arrow:before {color: black;}#sk-container-id-1 div.sk-toggleable__content {max-height: 0;max-width: 0;overflow: hidden;text-align: left;background-color: #f0f8ff;}#sk-container-id-1 div.sk-toggleable__content pre {margin: 0.2em;color: black;border-radius: 0.25em;background-color: #f0f8ff;}#sk-container-id-1 input.sk-toggleable__control:checked~div.sk-toggleable__content {max-height: 200px;max-width: 100%;overflow: auto;}#sk-container-id-1 input.sk-toggleable__control:checked~label.sk-toggleable__label-arrow:before {content: \"▾\";}#sk-container-id-1 div.sk-estimator input.sk-toggleable__control:checked~label.sk-toggleable__label {background-color: #d4ebff;}#sk-container-id-1 div.sk-label input.sk-toggleable__control:checked~label.sk-toggleable__label {background-color: #d4ebff;}#sk-container-id-1 input.sk-hidden--visually {border: 0;clip: rect(1px 1px 1px 1px);clip: rect(1px, 1px, 1px, 1px);height: 1px;margin: -1px;overflow: hidden;padding: 0;position: absolute;width: 1px;}#sk-container-id-1 div.sk-estimator {font-family: monospace;background-color: #f0f8ff;border: 1px dotted black;border-radius: 0.25em;box-sizing: border-box;margin-bottom: 0.5em;}#sk-container-id-1 div.sk-estimator:hover {background-color: #d4ebff;}#sk-container-id-1 div.sk-parallel-item::after {content: \"\";width: 100%;border-bottom: 1px solid gray;flex-grow: 1;}#sk-container-id-1 div.sk-label:hover label.sk-toggleable__label {background-color: #d4ebff;}#sk-container-id-1 div.sk-serial::before {content: \"\";position: absolute;border-left: 1px solid gray;box-sizing: border-box;top: 0;bottom: 0;left: 50%;z-index: 0;}#sk-container-id-1 div.sk-serial {display: flex;flex-direction: column;align-items: center;background-color: white;padding-right: 0.2em;padding-left: 0.2em;position: relative;}#sk-container-id-1 div.sk-item {position: relative;z-index: 1;}#sk-container-id-1 div.sk-parallel {display: flex;align-items: stretch;justify-content: center;background-color: white;position: relative;}#sk-container-id-1 div.sk-item::before, #sk-container-id-1 div.sk-parallel-item::before {content: \"\";position: absolute;border-left: 1px solid gray;box-sizing: border-box;top: 0;bottom: 0;left: 50%;z-index: -1;}#sk-container-id-1 div.sk-parallel-item {display: flex;flex-direction: column;z-index: 1;position: relative;background-color: white;}#sk-container-id-1 div.sk-parallel-item:first-child::after {align-self: flex-end;width: 50%;}#sk-container-id-1 div.sk-parallel-item:last-child::after {align-self: flex-start;width: 50%;}#sk-container-id-1 div.sk-parallel-item:only-child::after {width: 0;}#sk-container-id-1 div.sk-dashed-wrapped {border: 1px dashed gray;margin: 0 0.4em 0.5em 0.4em;box-sizing: border-box;padding-bottom: 0.4em;background-color: white;}#sk-container-id-1 div.sk-label label {font-family: monospace;font-weight: bold;display: inline-block;line-height: 1.2em;}#sk-container-id-1 div.sk-label-container {text-align: center;}#sk-container-id-1 div.sk-container {/* jupyter's `normalize.less` sets `[hidden] { display: none; }` but bootstrap.min.css set `[hidden] { display: none !important; }` so we also need the `!important` here to be able to override the default hidden behavior on the sphinx rendered scikit-learn.org. See: https://github.com/scikit-learn/scikit-learn/issues/21755 */display: inline-block !important;position: relative;}#sk-container-id-1 div.sk-text-repr-fallback {display: none;}</style><div id=\"sk-container-id-1\" class=\"sk-top-container\"><div class=\"sk-text-repr-fallback\"><pre>RandomForestRegressor(random_state=42)</pre><b>In a Jupyter environment, please rerun this cell to show the HTML representation or trust the notebook. <br />On GitHub, the HTML representation is unable to render, please try loading this page with nbviewer.org.</b></div><div class=\"sk-container\" hidden><div class=\"sk-item\"><div class=\"sk-estimator sk-toggleable\"><input class=\"sk-toggleable__control sk-hidden--visually\" id=\"sk-estimator-id-1\" type=\"checkbox\" checked><label for=\"sk-estimator-id-1\" class=\"sk-toggleable__label sk-toggleable__label-arrow\">RandomForestRegressor</label><div class=\"sk-toggleable__content\"><pre>RandomForestRegressor(random_state=42)</pre></div></div></div></div></div>"
      ],
      "text/plain": [
       "RandomForestRegressor(random_state=42)"
      ]
     },
     "execution_count": 36,
     "metadata": {},
     "output_type": "execute_result"
    }
   ],
   "source": [
    "from sklearn.model_selection import train_test_split\n",
    "from sklearn.linear_model import LinearRegression, Ridge\n",
    "from sklearn.ensemble import RandomForestRegressor\n",
    "from sklearn.metrics import mean_squared_error, r2_score\n",
    "\n",
    "\n",
    "# Splitting the data into training and testing sets\n",
    "X_train, X_test, y_train, y_test = train_test_split(df_normalized, y, test_size=0.2, random_state=42)\n",
    "\n",
    "# Linear Regression Model (using Ridge Regression for regularization)\n",
    "ridge_reg = Ridge(alpha=1.0)  # You can adjust the alpha value\n",
    "ridge_reg.fit(X_train, y_train)\n",
    "y_pred_ridge = ridge_reg.predict(X_test)\n",
    "\n",
    "# Random Forest Regression Model\n",
    "random_forest_reg = RandomForestRegressor(n_estimators=100, random_state=42)\n",
    "random_forest_reg.fit(X_train, y_train)\n",
    "y_pred_rf = random_forest_reg.predict(X_test)\n",
    "\n",
    "random_forest_reg"
   ]
  },
  {
   "cell_type": "markdown",
   "id": "44b9cc7f",
   "metadata": {},
   "source": [
    "# Model Evaluation"
   ]
  },
  {
   "cell_type": "code",
   "execution_count": 37,
   "id": "dbdc68fc",
   "metadata": {},
   "outputs": [
    {
     "name": "stdout",
     "output_type": "stream",
     "text": [
      "Ridge Regression Evaluation:\n",
      "Mean Squared Error (MSE): 12312.193594910426\n",
      "R-squared (R2): 0.865269522615475\n",
      "\n",
      "Random Forest Regression Evaluation:\n",
      "Mean Squared Error (MSE): 7257.579289100009\n",
      "R-squared (R2): 0.9205814045451094\n",
      "\n",
      "The best model for the dataset based on the evaluation metrics is: Random Forest Regression\n"
     ]
    }
   ],
   "source": [
    "\n",
    "# Evaluating the models\n",
    "mse_ridge = mean_squared_error(y_test, y_pred_ridge)\n",
    "r2_ridge = r2_score(y_test, y_pred_ridge)\n",
    "mse_rf = mean_squared_error(y_test, y_pred_rf)\n",
    "r2_rf = r2_score(y_test, y_pred_rf)\n",
    "\n",
    "# Output the evaluation metrics for both models\n",
    "print(\"Ridge Regression Evaluation:\")\n",
    "print(f\"Mean Squared Error (MSE): {mse_ridge}\")\n",
    "print(f\"R-squared (R2): {r2_ridge}\\n\")\n",
    "\n",
    "print(\"Random Forest Regression Evaluation:\")\n",
    "print(f\"Mean Squared Error (MSE): {mse_rf}\")\n",
    "print(f\"R-squared (R2): {r2_rf}\\n\")\n",
    "\n",
    "# Determine the best model based on R2 and MSE\n",
    "best_model = \"Ridge Regression\" if r2_ridge > r2_rf and mse_ridge < mse_rf else \"Random Forest Regression\"\n",
    "print(f\"The best model for the dataset based on the evaluation metrics is: {best_model}\")\n"
   ]
  },
  {
   "cell_type": "code",
   "execution_count": null,
   "id": "d4783834",
   "metadata": {},
   "outputs": [],
   "source": []
  }
 ],
 "metadata": {
  "kernelspec": {
   "display_name": "Python 3 (ipykernel)",
   "language": "python",
   "name": "python3"
  },
  "language_info": {
   "codemirror_mode": {
    "name": "ipython",
    "version": 3
   },
   "file_extension": ".py",
   "mimetype": "text/x-python",
   "name": "python",
   "nbconvert_exporter": "python",
   "pygments_lexer": "ipython3",
   "version": "3.11.5"
  }
 },
 "nbformat": 4,
 "nbformat_minor": 5
}
